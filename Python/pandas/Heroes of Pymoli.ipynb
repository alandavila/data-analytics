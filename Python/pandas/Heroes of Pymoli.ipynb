{
 "cells": [
  {
   "cell_type": "markdown",
   "metadata": {},
   "source": [
    "# Heroes of Pymoli Data Analysis"
   ]
  },
  {
   "cell_type": "markdown",
   "metadata": {},
   "source": [
    "* The most profitable age group for the company is from 20 to 24 years but the average purchase total is higher among people between 30 and 34 years old\n",
    "* There are 4.5x more male players than female players but they only outspend them by ~4x\n",
    "* The most expensive item does not make the cut of 5 most profitable items"
   ]
  },
  {
   "cell_type": "markdown",
   "metadata": {},
   "source": [
    "Dependencies"
   ]
  },
  {
   "cell_type": "code",
   "execution_count": 1,
   "metadata": {
    "collapsed": true
   },
   "outputs": [],
   "source": [
    "import os\n",
    "import pandas as pd"
   ]
  },
  {
   "cell_type": "markdown",
   "metadata": {},
   "source": [
    "Data &rarr; data frame"
   ]
  },
  {
   "cell_type": "code",
   "execution_count": 2,
   "metadata": {
    "collapsed": true
   },
   "outputs": [],
   "source": [
    "purchase_data_path = os.path.join('Resources','purchase_data.json')\n",
    "purchase_df = pd.read_json(purchase_data_path)"
   ]
  },
  {
   "cell_type": "markdown",
   "metadata": {},
   "source": [
    "#### Get total number of players"
   ]
  },
  {
   "cell_type": "code",
   "execution_count": 3,
   "metadata": {},
   "outputs": [
    {
     "data": {
      "text/html": [
       "<div>\n",
       "<style>\n",
       "    .dataframe thead tr:only-child th {\n",
       "        text-align: right;\n",
       "    }\n",
       "\n",
       "    .dataframe thead th {\n",
       "        text-align: left;\n",
       "    }\n",
       "\n",
       "    .dataframe tbody tr th {\n",
       "        vertical-align: top;\n",
       "    }\n",
       "</style>\n",
       "<table border=\"1\" class=\"dataframe\">\n",
       "  <thead>\n",
       "    <tr style=\"text-align: right;\">\n",
       "      <th></th>\n",
       "      <th>Total Players</th>\n",
       "    </tr>\n",
       "  </thead>\n",
       "  <tbody>\n",
       "    <tr>\n",
       "      <th>0</th>\n",
       "      <td>573</td>\n",
       "    </tr>\n",
       "  </tbody>\n",
       "</table>\n",
       "</div>"
      ],
      "text/plain": [
       "   Total Players\n",
       "0            573"
      ]
     },
     "execution_count": 3,
     "metadata": {},
     "output_type": "execute_result"
    }
   ],
   "source": [
    "#Distinguish players by SN attribute\n",
    "total_players = len(purchase_df['SN'].unique())\n",
    "total_players_df = pd.DataFrame({'Total Players':[total_players]})\n",
    "total_players_df\n"
   ]
  },
  {
   "cell_type": "markdown",
   "metadata": {},
   "source": [
    "####  Do purchase analysis"
   ]
  },
  {
   "cell_type": "code",
   "execution_count": 4,
   "metadata": {},
   "outputs": [
    {
     "data": {
      "text/html": [
       "<div>\n",
       "<style>\n",
       "    .dataframe thead tr:only-child th {\n",
       "        text-align: right;\n",
       "    }\n",
       "\n",
       "    .dataframe thead th {\n",
       "        text-align: left;\n",
       "    }\n",
       "\n",
       "    .dataframe tbody tr th {\n",
       "        vertical-align: top;\n",
       "    }\n",
       "</style>\n",
       "<table border=\"1\" class=\"dataframe\">\n",
       "  <thead>\n",
       "    <tr style=\"text-align: right;\">\n",
       "      <th></th>\n",
       "      <th>Number of Unique Items</th>\n",
       "      <th>Average Purchase Price</th>\n",
       "      <th>Total Number of Purchases</th>\n",
       "      <th>Total Revenue</th>\n",
       "    </tr>\n",
       "  </thead>\n",
       "  <tbody>\n",
       "    <tr>\n",
       "      <th>0</th>\n",
       "      <td>183</td>\n",
       "      <td>$2.93</td>\n",
       "      <td>780</td>\n",
       "      <td>$2,286.33</td>\n",
       "    </tr>\n",
       "  </tbody>\n",
       "</table>\n",
       "</div>"
      ],
      "text/plain": [
       "   Number of Unique Items Average Purchase Price  Total Number of Purchases  \\\n",
       "0                     183                  $2.93                        780   \n",
       "\n",
       "  Total Revenue  \n",
       "0     $2,286.33  "
      ]
     },
     "execution_count": 4,
     "metadata": {},
     "output_type": "execute_result"
    }
   ],
   "source": [
    "total_items = len(purchase_df['Item ID'].unique())\n",
    "average_item_price = purchase_df['Price'].mean()\n",
    "total_purchases = purchase_df['Price'].count()\n",
    "total_revenue = purchase_df['Price'].sum()\n",
    "#create dataframe with computed values\n",
    "purchase_analysis_total_df = pd.DataFrame(\n",
    "    {'Number of Unique Items':[total_items],\n",
    "     'Average Purchase Price':[average_item_price],\n",
    "     'Total Number of Purchases':[total_purchases],\n",
    "     'Total Revenue':[total_revenue]})\n",
    "#format currency\n",
    "purchase_analysis_total_df['Average Purchase Price'] = \\\n",
    "purchase_analysis_total_df['Average Purchase Price'].map('${:,.2f}'.format)\n",
    "purchase_analysis_total_df['Total Revenue'] = \\\n",
    "purchase_analysis_total_df['Total Revenue'].map('${:,.2f}'.format)\n",
    "#re-arrange columns\n",
    "purchase_analysis_total_df = purchase_analysis_total_df[['Number of Unique Items',\n",
    "                                                        'Average Purchase Price',\n",
    "                                                        'Total Number of Purchases',\n",
    "                                                        'Total Revenue']]\n",
    "purchase_analysis_total_df"
   ]
  },
  {
   "cell_type": "markdown",
   "metadata": {},
   "source": [
    "#### Gender demographics"
   ]
  },
  {
   "cell_type": "code",
   "execution_count": 5,
   "metadata": {},
   "outputs": [
    {
     "data": {
      "text/html": [
       "<div>\n",
       "<style>\n",
       "    .dataframe thead tr:only-child th {\n",
       "        text-align: right;\n",
       "    }\n",
       "\n",
       "    .dataframe thead th {\n",
       "        text-align: left;\n",
       "    }\n",
       "\n",
       "    .dataframe tbody tr th {\n",
       "        vertical-align: top;\n",
       "    }\n",
       "</style>\n",
       "<table border=\"1\" class=\"dataframe\">\n",
       "  <thead>\n",
       "    <tr style=\"text-align: right;\">\n",
       "      <th></th>\n",
       "      <th>Percentage of Players</th>\n",
       "      <th>Total Count</th>\n",
       "    </tr>\n",
       "  </thead>\n",
       "  <tbody>\n",
       "    <tr>\n",
       "      <th>Male</th>\n",
       "      <td>81.15%</td>\n",
       "      <td>465</td>\n",
       "    </tr>\n",
       "    <tr>\n",
       "      <th>Female</th>\n",
       "      <td>17.45%</td>\n",
       "      <td>100</td>\n",
       "    </tr>\n",
       "    <tr>\n",
       "      <th>Other / Non-Disclose</th>\n",
       "      <td>1.40%</td>\n",
       "      <td>8</td>\n",
       "    </tr>\n",
       "  </tbody>\n",
       "</table>\n",
       "</div>"
      ],
      "text/plain": [
       "                     Percentage of Players Total Count\n",
       "Male                                81.15%         465\n",
       "Female                              17.45%         100\n",
       "Other / Non-Disclose                 1.40%           8"
      ]
     },
     "execution_count": 5,
     "metadata": {},
     "output_type": "execute_result"
    }
   ],
   "source": [
    "males_df = purchase_df.loc[purchase_df['Gender'] == 'Male']\n",
    "females_df = purchase_df.loc[purchase_df['Gender'] == 'Female']\n",
    "#use SN to distinguish players and avoid double counting\n",
    "males = len(males_df['SN'].unique())\n",
    "females = len(females_df['SN'].unique())\n",
    "others = len(purchase_df['SN'].unique()) - males - females\n",
    "#create dataframe \n",
    "gender_df = pd.DataFrame({'Male':[100*males/total_players, males],\n",
    "                          'Female':[100*females/total_players, females],\n",
    "                         'Other / Non-Disclose':[100*others/total_players, others]})\n",
    "#re-arrange columns\n",
    "gender_df = gender_df[['Male', 'Female','Other / Non-Disclose']]\n",
    "gender_df.index = ['Percentage of Players', 'Total Count']\n",
    "gender_df = gender_df.transpose()\n",
    "#format percent and integers\n",
    "gender_df['Percentage of Players'] = gender_df['Percentage of Players'].map('{:,.2f}%'.format)\n",
    "gender_df['Total Count'] = gender_df['Total Count'].map('{:,.0f}'.format)\n",
    "gender_df"
   ]
  },
  {
   "cell_type": "markdown",
   "metadata": {},
   "source": [
    "#### Do purchase analysis by gender"
   ]
  },
  {
   "cell_type": "code",
   "execution_count": 6,
   "metadata": {},
   "outputs": [
    {
     "data": {
      "text/html": [
       "<div>\n",
       "<style>\n",
       "    .dataframe thead tr:only-child th {\n",
       "        text-align: right;\n",
       "    }\n",
       "\n",
       "    .dataframe thead th {\n",
       "        text-align: left;\n",
       "    }\n",
       "\n",
       "    .dataframe tbody tr th {\n",
       "        vertical-align: top;\n",
       "    }\n",
       "</style>\n",
       "<table border=\"1\" class=\"dataframe\">\n",
       "  <thead>\n",
       "    <tr style=\"text-align: right;\">\n",
       "      <th></th>\n",
       "      <th>Purchase Count</th>\n",
       "      <th>Average Purchase Price</th>\n",
       "      <th>Total Purchase Value</th>\n",
       "      <th>Normalized Totals</th>\n",
       "    </tr>\n",
       "    <tr>\n",
       "      <th>Gender</th>\n",
       "      <th></th>\n",
       "      <th></th>\n",
       "      <th></th>\n",
       "      <th></th>\n",
       "    </tr>\n",
       "  </thead>\n",
       "  <tbody>\n",
       "    <tr>\n",
       "      <th>Female</th>\n",
       "      <td>136</td>\n",
       "      <td>$2.816</td>\n",
       "      <td>$382.910</td>\n",
       "      <td>$2.816</td>\n",
       "    </tr>\n",
       "    <tr>\n",
       "      <th>Male</th>\n",
       "      <td>633</td>\n",
       "      <td>$2.951</td>\n",
       "      <td>$1,867.680</td>\n",
       "      <td>$2.951</td>\n",
       "    </tr>\n",
       "    <tr>\n",
       "      <th>Other / Non-Disclosed</th>\n",
       "      <td>11</td>\n",
       "      <td>$3.249</td>\n",
       "      <td>$35.740</td>\n",
       "      <td>$3.249</td>\n",
       "    </tr>\n",
       "  </tbody>\n",
       "</table>\n",
       "</div>"
      ],
      "text/plain": [
       "                       Purchase Count Average Purchase Price  \\\n",
       "Gender                                                         \n",
       "Female                            136                 $2.816   \n",
       "Male                              633                 $2.951   \n",
       "Other / Non-Disclosed              11                 $3.249   \n",
       "\n",
       "                      Total Purchase Value Normalized Totals  \n",
       "Gender                                                        \n",
       "Female                            $382.910            $2.816  \n",
       "Male                            $1,867.680            $2.951  \n",
       "Other / Non-Disclosed              $35.740            $3.249  "
      ]
     },
     "execution_count": 6,
     "metadata": {},
     "output_type": "execute_result"
    }
   ],
   "source": [
    "#group data into gender categories\n",
    "purchase_gender_gp = purchase_df.groupby('Gender')\n",
    "#aggregate to get each category's count, sum, mean, divide sum/count to get norm totals\n",
    "gender_count_series =  purchase_gender_gp['Price'].count()\n",
    "gender_mean_series = purchase_gender_gp['Price'].mean().map('${:,.3f}'.format)\n",
    "gender_total_series = purchase_gender_gp['Price'].sum().map('${:,.3f}'.format)\n",
    "gender_norm_series = \\\n",
    "purchase_gender_gp['Price'].sum()/purchase_gender_gp['Price'].count()\n",
    "gender_norm_series = gender_norm_series.map('${:,.3f}'.format)\n",
    "#merge series to create dataframe\n",
    "purchase_gender_df = pd.concat([gender_count_series, gender_mean_series,\n",
    "                                gender_total_series, gender_norm_series], axis=1)\n",
    "purchase_gender_df.columns = ['Purchase Count', 'Average Purchase Price',\n",
    "                              'Total Purchase Value', 'Normalized Totals']\n",
    "purchase_gender_df"
   ]
  },
  {
   "cell_type": "markdown",
   "metadata": {},
   "source": [
    "#### Age Demographics"
   ]
  },
  {
   "cell_type": "code",
   "execution_count": 7,
   "metadata": {},
   "outputs": [
    {
     "data": {
      "text/html": [
       "<div>\n",
       "<style>\n",
       "    .dataframe thead tr:only-child th {\n",
       "        text-align: right;\n",
       "    }\n",
       "\n",
       "    .dataframe thead th {\n",
       "        text-align: left;\n",
       "    }\n",
       "\n",
       "    .dataframe tbody tr th {\n",
       "        vertical-align: top;\n",
       "    }\n",
       "</style>\n",
       "<table border=\"1\" class=\"dataframe\">\n",
       "  <thead>\n",
       "    <tr style=\"text-align: right;\">\n",
       "      <th></th>\n",
       "      <th>Purchase Count</th>\n",
       "      <th>Average Purchase Price</th>\n",
       "      <th>Total Purchase Value</th>\n",
       "      <th>Normalized Totals</th>\n",
       "    </tr>\n",
       "    <tr>\n",
       "      <th>Age Range</th>\n",
       "      <th></th>\n",
       "      <th></th>\n",
       "      <th></th>\n",
       "      <th></th>\n",
       "    </tr>\n",
       "  </thead>\n",
       "  <tbody>\n",
       "    <tr>\n",
       "      <th>&lt;10</th>\n",
       "      <td>32</td>\n",
       "      <td>$3.019</td>\n",
       "      <td>$96.620</td>\n",
       "      <td>$3.019</td>\n",
       "    </tr>\n",
       "    <tr>\n",
       "      <th>10-14</th>\n",
       "      <td>78</td>\n",
       "      <td>$2.874</td>\n",
       "      <td>$224.150</td>\n",
       "      <td>$2.874</td>\n",
       "    </tr>\n",
       "    <tr>\n",
       "      <th>15-19</th>\n",
       "      <td>184</td>\n",
       "      <td>$2.874</td>\n",
       "      <td>$528.740</td>\n",
       "      <td>$2.874</td>\n",
       "    </tr>\n",
       "    <tr>\n",
       "      <th>20-24</th>\n",
       "      <td>305</td>\n",
       "      <td>$2.959</td>\n",
       "      <td>$902.610</td>\n",
       "      <td>$2.959</td>\n",
       "    </tr>\n",
       "    <tr>\n",
       "      <th>25-29</th>\n",
       "      <td>76</td>\n",
       "      <td>$2.892</td>\n",
       "      <td>$219.820</td>\n",
       "      <td>$2.892</td>\n",
       "    </tr>\n",
       "    <tr>\n",
       "      <th>30-34</th>\n",
       "      <td>58</td>\n",
       "      <td>$3.073</td>\n",
       "      <td>$178.260</td>\n",
       "      <td>$3.073</td>\n",
       "    </tr>\n",
       "    <tr>\n",
       "      <th>35-39</th>\n",
       "      <td>44</td>\n",
       "      <td>$2.898</td>\n",
       "      <td>$127.490</td>\n",
       "      <td>$2.898</td>\n",
       "    </tr>\n",
       "    <tr>\n",
       "      <th>&gt;40</th>\n",
       "      <td>3</td>\n",
       "      <td>$2.880</td>\n",
       "      <td>$8.640</td>\n",
       "      <td>$2.880</td>\n",
       "    </tr>\n",
       "  </tbody>\n",
       "</table>\n",
       "</div>"
      ],
      "text/plain": [
       "           Purchase Count Average Purchase Price Total Purchase Value  \\\n",
       "Age Range                                                               \n",
       "<10                    32                 $3.019              $96.620   \n",
       "10-14                  78                 $2.874             $224.150   \n",
       "15-19                 184                 $2.874             $528.740   \n",
       "20-24                 305                 $2.959             $902.610   \n",
       "25-29                  76                 $2.892             $219.820   \n",
       "30-34                  58                 $3.073             $178.260   \n",
       "35-39                  44                 $2.898             $127.490   \n",
       ">40                     3                 $2.880               $8.640   \n",
       "\n",
       "          Normalized Totals  \n",
       "Age Range                    \n",
       "<10                  $3.019  \n",
       "10-14                $2.874  \n",
       "15-19                $2.874  \n",
       "20-24                $2.959  \n",
       "25-29                $2.892  \n",
       "30-34                $3.073  \n",
       "35-39                $2.898  \n",
       ">40                  $2.880  "
      ]
     },
     "execution_count": 7,
     "metadata": {},
     "output_type": "execute_result"
    }
   ],
   "source": [
    "#define age bins for analysis\n",
    "age_bins = [0, 10, 15, 20, 25, 30, 35, 40,45]\n",
    "labels = ['<10','10-14','15-19', '20-24', '25-29', '30-34', '35-39', '>40']\n",
    "#assign rows to their corresponding age bins generated by cut\n",
    "purchase_df['Age Range'] = pd.cut(purchase_df['Age'], bins=age_bins, labels=labels)\n",
    "#group by age bins\n",
    "purchase_age_range_gp = purchase_df.groupby('Age Range')\n",
    "#aggregate per bin information\n",
    "purchase_age_count_series = purchase_age_range_gp['Price'].count()\n",
    "purchase_age_mean_series = purchase_age_range_gp['Price'].mean().map('${:,.3f}'.format)\n",
    "purchase_age_total_series = purchase_age_range_gp['Price'].sum().map('${:,.3f}'.format)\n",
    "purchase_age_norm_series = \\\n",
    "purchase_age_range_gp['Price'].sum()/purchase_age_range_gp['Price'].count()\n",
    "purchase_age_norm_series = purchase_age_norm_series.map('${:,.3f}'.format)\n",
    "#merge series to create dataframe\n",
    "purchase_age_df = pd.concat([purchase_age_count_series, purchase_age_mean_series,\n",
    "                             purchase_age_total_series, purchase_age_norm_series], axis=1)\n",
    "purchase_age_df.columns = ['Purchase Count', 'Average Purchase Price', 'Total Purchase Value',\n",
    "                           'Normalized Totals']\n",
    "purchase_age_df"
   ]
  },
  {
   "cell_type": "markdown",
   "metadata": {},
   "source": [
    "#### Top Spenders"
   ]
  },
  {
   "cell_type": "code",
   "execution_count": 8,
   "metadata": {},
   "outputs": [
    {
     "data": {
      "text/html": [
       "<div>\n",
       "<style>\n",
       "    .dataframe thead tr:only-child th {\n",
       "        text-align: right;\n",
       "    }\n",
       "\n",
       "    .dataframe thead th {\n",
       "        text-align: left;\n",
       "    }\n",
       "\n",
       "    .dataframe tbody tr th {\n",
       "        vertical-align: top;\n",
       "    }\n",
       "</style>\n",
       "<table border=\"1\" class=\"dataframe\">\n",
       "  <thead>\n",
       "    <tr style=\"text-align: right;\">\n",
       "      <th></th>\n",
       "      <th>Purchase Count</th>\n",
       "      <th>Average Purchase Price</th>\n",
       "      <th>Total Purchase Value</th>\n",
       "    </tr>\n",
       "    <tr>\n",
       "      <th>SN</th>\n",
       "      <th></th>\n",
       "      <th></th>\n",
       "      <th></th>\n",
       "    </tr>\n",
       "  </thead>\n",
       "  <tbody>\n",
       "    <tr>\n",
       "      <th>Undirrala66</th>\n",
       "      <td>5</td>\n",
       "      <td>$3.412</td>\n",
       "      <td>$17.060</td>\n",
       "    </tr>\n",
       "    <tr>\n",
       "      <th>Saedue76</th>\n",
       "      <td>4</td>\n",
       "      <td>$3.390</td>\n",
       "      <td>$13.560</td>\n",
       "    </tr>\n",
       "    <tr>\n",
       "      <th>Mindimnya67</th>\n",
       "      <td>4</td>\n",
       "      <td>$3.185</td>\n",
       "      <td>$12.740</td>\n",
       "    </tr>\n",
       "    <tr>\n",
       "      <th>Haellysu29</th>\n",
       "      <td>3</td>\n",
       "      <td>$4.243</td>\n",
       "      <td>$12.730</td>\n",
       "    </tr>\n",
       "    <tr>\n",
       "      <th>Eoda93</th>\n",
       "      <td>3</td>\n",
       "      <td>$3.860</td>\n",
       "      <td>$11.580</td>\n",
       "    </tr>\n",
       "  </tbody>\n",
       "</table>\n",
       "</div>"
      ],
      "text/plain": [
       "             Purchase Count Average Purchase Price Total Purchase Value\n",
       "SN                                                                     \n",
       "Undirrala66               5                 $3.412              $17.060\n",
       "Saedue76                  4                 $3.390              $13.560\n",
       "Mindimnya67               4                 $3.185              $12.740\n",
       "Haellysu29                3                 $4.243              $12.730\n",
       "Eoda93                    3                 $3.860              $11.580"
      ]
     },
     "execution_count": 8,
     "metadata": {},
     "output_type": "execute_result"
    }
   ],
   "source": [
    "#group by SN to get unique customers\n",
    "purchase_sn_gp = purchase_df.groupby('SN')\n",
    "#aggregate per user info\n",
    "#we will defer formating totals since we need to sort their values\n",
    "purchase_sn_total_series = purchase_sn_gp['Price'].sum()\n",
    "purchase_sn_count_series = purchase_sn_gp['SN'].count()\n",
    "purchase_sn_mean_series = purchase_sn_gp['Price'].mean().map('${:,.3f}'.format)\n",
    "#merge series to create dataframe\n",
    "purchase_sn_df = pd.concat([purchase_sn_count_series, purchase_sn_mean_series, purchase_sn_total_series], axis=1)\n",
    "purchase_sn_df.columns = ['Purchase Count', 'Average Purchase Price', 'Total Purchase Value']\n",
    "#find top spenders by sorting\n",
    "top_spenders = purchase_sn_df.sort_values(by='Total Purchase Value', ascending=False).head(5)\n",
    "top_spenders['Total Purchase Value'] = top_spenders['Total Purchase Value'].map('${:,.3f}'.format)\n",
    "top_spenders\n",
    "\n"
   ]
  },
  {
   "cell_type": "markdown",
   "metadata": {},
   "source": [
    "#### Most Popular Items"
   ]
  },
  {
   "cell_type": "code",
   "execution_count": 9,
   "metadata": {},
   "outputs": [
    {
     "data": {
      "text/html": [
       "<div>\n",
       "<style>\n",
       "    .dataframe thead tr:only-child th {\n",
       "        text-align: right;\n",
       "    }\n",
       "\n",
       "    .dataframe thead th {\n",
       "        text-align: left;\n",
       "    }\n",
       "\n",
       "    .dataframe tbody tr th {\n",
       "        vertical-align: top;\n",
       "    }\n",
       "</style>\n",
       "<table border=\"1\" class=\"dataframe\">\n",
       "  <thead>\n",
       "    <tr style=\"text-align: right;\">\n",
       "      <th></th>\n",
       "      <th></th>\n",
       "      <th>Purchase Count</th>\n",
       "      <th>Item Price</th>\n",
       "      <th>Total Purchase Value</th>\n",
       "    </tr>\n",
       "    <tr>\n",
       "      <th>Item ID</th>\n",
       "      <th>Item Name</th>\n",
       "      <th></th>\n",
       "      <th></th>\n",
       "      <th></th>\n",
       "    </tr>\n",
       "  </thead>\n",
       "  <tbody>\n",
       "    <tr>\n",
       "      <th>39</th>\n",
       "      <th>Betrayal, Whisper of Grieving Widows</th>\n",
       "      <td>11</td>\n",
       "      <td>$2.350</td>\n",
       "      <td>25.85</td>\n",
       "    </tr>\n",
       "    <tr>\n",
       "      <th>84</th>\n",
       "      <th>Arcane Gem</th>\n",
       "      <td>11</td>\n",
       "      <td>$2.230</td>\n",
       "      <td>24.53</td>\n",
       "    </tr>\n",
       "    <tr>\n",
       "      <th>31</th>\n",
       "      <th>Trickster</th>\n",
       "      <td>9</td>\n",
       "      <td>$2.070</td>\n",
       "      <td>18.63</td>\n",
       "    </tr>\n",
       "    <tr>\n",
       "      <th>175</th>\n",
       "      <th>Woeful Adamantite Claymore</th>\n",
       "      <td>9</td>\n",
       "      <td>$1.240</td>\n",
       "      <td>11.16</td>\n",
       "    </tr>\n",
       "    <tr>\n",
       "      <th>13</th>\n",
       "      <th>Serenity</th>\n",
       "      <td>9</td>\n",
       "      <td>$1.490</td>\n",
       "      <td>13.41</td>\n",
       "    </tr>\n",
       "  </tbody>\n",
       "</table>\n",
       "</div>"
      ],
      "text/plain": [
       "                                              Purchase Count Item Price  \\\n",
       "Item ID Item Name                                                         \n",
       "39      Betrayal, Whisper of Grieving Widows              11     $2.350   \n",
       "84      Arcane Gem                                        11     $2.230   \n",
       "31      Trickster                                          9     $2.070   \n",
       "175     Woeful Adamantite Claymore                         9     $1.240   \n",
       "13      Serenity                                           9     $1.490   \n",
       "\n",
       "                                              Total Purchase Value  \n",
       "Item ID Item Name                                                   \n",
       "39      Betrayal, Whisper of Grieving Widows                 25.85  \n",
       "84      Arcane Gem                                           24.53  \n",
       "31      Trickster                                            18.63  \n",
       "175     Woeful Adamantite Claymore                           11.16  \n",
       "13      Serenity                                             13.41  "
      ]
     },
     "execution_count": 9,
     "metadata": {},
     "output_type": "execute_result"
    }
   ],
   "source": [
    "#group items by Item ID\n",
    "purchase_id_gp = purchase_df.groupby(['Item ID','Item Name'])\n",
    "#aggregate per item info\n",
    "purchase_id_count = purchase_id_gp['Item ID'].count()\n",
    "#we will defer formating totals since we need to sort their values\n",
    "purchase_id_total = purchase_id_gp['Price'].sum()\n",
    "purchase_id_price = purchase_id_gp['Price'].mean().map('${:,.3f}'.format)\n",
    "#concatenate series into a datafame\n",
    "purchase_id_df =pd.concat([purchase_id_count, purchase_id_price, purchase_id_total], axis=1)\n",
    "purchase_id_df.columns = ['Purchase Count', 'Item Price', 'Total Purchase Value']\n",
    "most_popular = purchase_id_df.sort_values(by='Purchase Count', ascending=False).head(5)\n",
    "most_popular"
   ]
  },
  {
   "cell_type": "markdown",
   "metadata": {},
   "source": [
    "#### Most Profitable Items"
   ]
  },
  {
   "cell_type": "code",
   "execution_count": 10,
   "metadata": {},
   "outputs": [
    {
     "data": {
      "text/html": [
       "<div>\n",
       "<style>\n",
       "    .dataframe thead tr:only-child th {\n",
       "        text-align: right;\n",
       "    }\n",
       "\n",
       "    .dataframe thead th {\n",
       "        text-align: left;\n",
       "    }\n",
       "\n",
       "    .dataframe tbody tr th {\n",
       "        vertical-align: top;\n",
       "    }\n",
       "</style>\n",
       "<table border=\"1\" class=\"dataframe\">\n",
       "  <thead>\n",
       "    <tr style=\"text-align: right;\">\n",
       "      <th></th>\n",
       "      <th></th>\n",
       "      <th>Purchase Count</th>\n",
       "      <th>Item Price</th>\n",
       "      <th>Total Purchase Value</th>\n",
       "    </tr>\n",
       "    <tr>\n",
       "      <th>Item ID</th>\n",
       "      <th>Item Name</th>\n",
       "      <th></th>\n",
       "      <th></th>\n",
       "      <th></th>\n",
       "    </tr>\n",
       "  </thead>\n",
       "  <tbody>\n",
       "    <tr>\n",
       "      <th>34</th>\n",
       "      <th>Retribution Axe</th>\n",
       "      <td>9</td>\n",
       "      <td>$4.140</td>\n",
       "      <td>$37.260</td>\n",
       "    </tr>\n",
       "    <tr>\n",
       "      <th>115</th>\n",
       "      <th>Spectral Diamond Doomblade</th>\n",
       "      <td>7</td>\n",
       "      <td>$4.250</td>\n",
       "      <td>$29.750</td>\n",
       "    </tr>\n",
       "    <tr>\n",
       "      <th>32</th>\n",
       "      <th>Orenmir</th>\n",
       "      <td>6</td>\n",
       "      <td>$4.950</td>\n",
       "      <td>$29.700</td>\n",
       "    </tr>\n",
       "    <tr>\n",
       "      <th>103</th>\n",
       "      <th>Singed Scalpel</th>\n",
       "      <td>6</td>\n",
       "      <td>$4.870</td>\n",
       "      <td>$29.220</td>\n",
       "    </tr>\n",
       "    <tr>\n",
       "      <th>107</th>\n",
       "      <th>Splitter, Foe Of Subtlety</th>\n",
       "      <td>8</td>\n",
       "      <td>$3.610</td>\n",
       "      <td>$28.880</td>\n",
       "    </tr>\n",
       "  </tbody>\n",
       "</table>\n",
       "</div>"
      ],
      "text/plain": [
       "                                    Purchase Count Item Price  \\\n",
       "Item ID Item Name                                               \n",
       "34      Retribution Axe                          9     $4.140   \n",
       "115     Spectral Diamond Doomblade               7     $4.250   \n",
       "32      Orenmir                                  6     $4.950   \n",
       "103     Singed Scalpel                           6     $4.870   \n",
       "107     Splitter, Foe Of Subtlety                8     $3.610   \n",
       "\n",
       "                                   Total Purchase Value  \n",
       "Item ID Item Name                                        \n",
       "34      Retribution Axe                         $37.260  \n",
       "115     Spectral Diamond Doomblade              $29.750  \n",
       "32      Orenmir                                 $29.700  \n",
       "103     Singed Scalpel                          $29.220  \n",
       "107     Splitter, Foe Of Subtlety               $28.880  "
      ]
     },
     "execution_count": 10,
     "metadata": {},
     "output_type": "execute_result"
    }
   ],
   "source": [
    "most_profitable = purchase_id_df.sort_values(by='Total Purchase Value', ascending=False)\n",
    "most_profitable['Total Purchase Value'] = most_profitable['Total Purchase Value'].map('${:,.3f}'.format)\n",
    "most_profitable.head(5)"
   ]
  },
  {
   "cell_type": "code",
   "execution_count": null,
   "metadata": {
    "collapsed": true
   },
   "outputs": [],
   "source": []
  }
 ],
 "metadata": {
  "kernelspec": {
   "display_name": "Python 3",
   "language": "python",
   "name": "python3"
  },
  "language_info": {
   "codemirror_mode": {
    "name": "ipython",
    "version": 3
   },
   "file_extension": ".py",
   "mimetype": "text/x-python",
   "name": "python",
   "nbconvert_exporter": "python",
   "pygments_lexer": "ipython3",
   "version": "3.6.3"
  }
 },
 "nbformat": 4,
 "nbformat_minor": 2
}
