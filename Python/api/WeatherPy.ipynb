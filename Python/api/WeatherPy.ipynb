{
 "cells": [
  {
   "cell_type": "markdown",
   "metadata": {},
   "source": [
    "# Analysis"
   ]
  },
  {
   "cell_type": "markdown",
   "metadata": {},
   "source": [
    "Trends Observed:\n",
    "* a\n",
    "* b\n",
    "* c"
   ]
  },
  {
   "cell_type": "markdown",
   "metadata": {},
   "source": [
    "Import dependencies"
   ]
  },
  {
   "cell_type": "code",
   "execution_count": 2,
   "metadata": {},
   "outputs": [],
   "source": [
    "from citipy import citipy\n",
    "#local config file with API key\n",
    "import config\n",
    "import matplotlib.pyplot as plt\n",
    "import pandas as pd\n",
    "import random as rnd\n",
    "import requests as req\n",
    "import seaborn as sns\n",
    "sns.set()\n",
    "rnd.seed(12456)"
   ]
  },
  {
   "cell_type": "markdown",
   "metadata": {},
   "source": [
    "### Generate Cities List\n",
    "\n",
    "Get random grid of 22*23 points in (latitude, longitude) \n",
    "\n",
    "Latitude range: -90, 90\n",
    "\n",
    "Longitude range: -180, 180"
   ]
  },
  {
   "cell_type": "code",
   "execution_count": 29,
   "metadata": {
    "collapsed": true
   },
   "outputs": [],
   "source": [
    "cities = []\n",
    "for i in range(22):\n",
    "    for j in range(23):\n",
    "        lat = rnd.uniform(-90, 90)\n",
    "        lon = rnd.uniform(-180, 180)\n",
    "        cities.append(citipy.nearest_city(lat, lon).city_name)"
   ]
  },
  {
   "cell_type": "code",
   "execution_count": 37,
   "metadata": {},
   "outputs": [
    {
     "data": {
      "text/plain": [
       "5"
      ]
     },
     "execution_count": 37,
     "metadata": {},
     "output_type": "execute_result"
    }
   ],
   "source": [
    "#debug\n",
    "cities = cities[:5]\n",
    "len(cities)"
   ]
  },
  {
   "cell_type": "markdown",
   "metadata": {},
   "source": [
    "### Perform API Calls"
   ]
  },
  {
   "cell_type": "code",
   "execution_count": 38,
   "metadata": {
    "scrolled": false
   },
   "outputs": [
    {
     "name": "stdout",
     "output_type": "stream",
     "text": [
      "Processing record: 0; City: port alfred;\n",
      "URL: http://api.openweathermap.org/data/2.5/weather?q=port alfred&appid=c4c7cd621b32b64dab8036d138681984&units=imperial\n",
      "Processing record: 1; City: viedma;\n",
      "URL: http://api.openweathermap.org/data/2.5/weather?q=viedma&appid=c4c7cd621b32b64dab8036d138681984&units=imperial\n",
      "Processing record: 2; City: port elizabeth;\n",
      "URL: http://api.openweathermap.org/data/2.5/weather?q=port elizabeth&appid=c4c7cd621b32b64dab8036d138681984&units=imperial\n",
      "Processing record: 3; City: isangel;\n",
      "URL: http://api.openweathermap.org/data/2.5/weather?q=isangel&appid=c4c7cd621b32b64dab8036d138681984&units=imperial\n",
      "Processing record: 4; City: quatre cocos;\n",
      "URL: http://api.openweathermap.org/data/2.5/weather?q=quatre cocos&appid=c4c7cd621b32b64dab8036d138681984&units=imperial\n"
     ]
    }
   ],
   "source": [
    "API_KEY = config.API_KEY\n",
    "latitudes_df = pd.DataFrame(columns=['City', 'Latitude', 'Max Temperature', 'Humidity', 'Cloudiness', 'Wind Speed'])\n",
    "for indx, city in enumerate(cities):\n",
    "    url = f'http://api.openweathermap.org/data/2.5/weather?q={city}&appid={API_KEY}&units=imperial'\n",
    "    try:\n",
    "        response = req.get(url)\n",
    "    except:\n",
    "        print(f'Query: {url} failed!')\n",
    "        continue\n",
    "    if response.status_code != 200:\n",
    "        print(f'City: {city} not found!')\n",
    "        continue\n",
    "    print(f'Processing record: {indx}; City: {city};\\nURL: {url}')\n",
    "    r_json = response.json()\n",
    "    latitude = r_json['coord']['lat']\n",
    "    temperature = r_json['main']['temp_max'] \n",
    "    humidity = r_json['main']['humidity']\n",
    "    cloudiness = r_json['clouds']['all']\n",
    "    wind_speed = r_json['wind']['speed'] \n",
    "    latitudes_df.loc[indx, 'City'] = city\n",
    "    latitudes_df.loc[indx, 'Latitude'] = latitude\n",
    "    latitudes_df.loc[indx, 'Max Temperature'] = temperature\n",
    "    latitudes_df.loc[indx, 'Humidity'] = humidity\n",
    "    latitudes_df.loc[indx, 'Cloudiness'] = cloudiness\n",
    "    latitudes_df.loc[indx, 'Wind Speed'] = wind_speed    "
   ]
  },
  {
   "cell_type": "code",
   "execution_count": 32,
   "metadata": {},
   "outputs": [
    {
     "data": {
      "text/html": [
       "<div>\n",
       "<style>\n",
       "    .dataframe thead tr:only-child th {\n",
       "        text-align: right;\n",
       "    }\n",
       "\n",
       "    .dataframe thead th {\n",
       "        text-align: left;\n",
       "    }\n",
       "\n",
       "    .dataframe tbody tr th {\n",
       "        vertical-align: top;\n",
       "    }\n",
       "</style>\n",
       "<table border=\"1\" class=\"dataframe\">\n",
       "  <thead>\n",
       "    <tr style=\"text-align: right;\">\n",
       "      <th></th>\n",
       "      <th>City</th>\n",
       "      <th>Latitude</th>\n",
       "      <th>Max Temperature</th>\n",
       "      <th>Humidity</th>\n",
       "      <th>Cloudiness</th>\n",
       "      <th>Wind Speed</th>\n",
       "    </tr>\n",
       "  </thead>\n",
       "  <tbody>\n",
       "    <tr>\n",
       "      <th>0</th>\n",
       "      <td>port alfred</td>\n",
       "      <td>-33.59</td>\n",
       "      <td>65.76</td>\n",
       "      <td>92</td>\n",
       "      <td>76</td>\n",
       "      <td>6.73</td>\n",
       "    </tr>\n",
       "    <tr>\n",
       "      <th>1</th>\n",
       "      <td>viedma</td>\n",
       "      <td>-40.81</td>\n",
       "      <td>62.16</td>\n",
       "      <td>70</td>\n",
       "      <td>0</td>\n",
       "      <td>8.41</td>\n",
       "    </tr>\n",
       "    <tr>\n",
       "      <th>2</th>\n",
       "      <td>port elizabeth</td>\n",
       "      <td>39.31</td>\n",
       "      <td>51.8</td>\n",
       "      <td>37</td>\n",
       "      <td>20</td>\n",
       "      <td>10.29</td>\n",
       "    </tr>\n",
       "    <tr>\n",
       "      <th>3</th>\n",
       "      <td>isangel</td>\n",
       "      <td>-19.55</td>\n",
       "      <td>82.23</td>\n",
       "      <td>100</td>\n",
       "      <td>88</td>\n",
       "      <td>5.5</td>\n",
       "    </tr>\n",
       "    <tr>\n",
       "      <th>4</th>\n",
       "      <td>quatre cocos</td>\n",
       "      <td>-20.21</td>\n",
       "      <td>80.6</td>\n",
       "      <td>78</td>\n",
       "      <td>40</td>\n",
       "      <td>8.05</td>\n",
       "    </tr>\n",
       "  </tbody>\n",
       "</table>\n",
       "</div>"
      ],
      "text/plain": [
       "             City Latitude Max Temperature Humidity Cloudiness Wind Speed\n",
       "0     port alfred   -33.59           65.76       92         76       6.73\n",
       "1          viedma   -40.81           62.16       70          0       8.41\n",
       "2  port elizabeth    39.31            51.8       37         20      10.29\n",
       "3         isangel   -19.55           82.23      100         88        5.5\n",
       "4    quatre cocos   -20.21            80.6       78         40       8.05"
      ]
     },
     "execution_count": 32,
     "metadata": {},
     "output_type": "execute_result"
    }
   ],
   "source": [
    "latitudes_df.head()"
   ]
  },
  {
   "cell_type": "markdown",
   "metadata": {},
   "source": [
    "Export dataframe to csv file"
   ]
  },
  {
   "cell_type": "code",
   "execution_count": 23,
   "metadata": {
    "collapsed": true
   },
   "outputs": [],
   "source": [
    "latitudes_df.to_csv('Latitude_weather.csv')"
   ]
  },
  {
   "cell_type": "markdown",
   "metadata": {},
   "source": [
    "### Latitude vs Temperature Plot"
   ]
  },
  {
   "cell_type": "code",
   "execution_count": 33,
   "metadata": {},
   "outputs": [
    {
     "data": {
      "text/plain": [
       "<matplotlib.figure.Figure at 0x2a77941eef0>"
      ]
     },
     "metadata": {},
     "output_type": "display_data"
    },
    {
     "data": {
      "image/png": "[encoded data removed]",
      "text/plain": [
       "<matplotlib.figure.Figure at 0x2a7795ce518>"
      ]
     },
     "metadata": {},
     "output_type": "display_data"
    }
   ],
   "source": [
    "fig, ax = plt.subplots(figsize = (8,8))\n",
    "ax.scatter(latitudes_df['Latitude'], latitudes_df['Max Temperature'])\n",
    "plt.title('City Latitude vs Max Temperature')\n",
    "ax.set_ylabel('Max Temperature (F)')\n",
    "ax.set_xlabel('City Latitude')\n",
    "plt.tight_layout()\n",
    "plt.show()\n",
    "plt.savefig('Latitude_vs_MaxTemp.png')"
   ]
  },
  {
   "cell_type": "markdown",
   "metadata": {},
   "source": [
    "### Latitude vs Humidity Plot"
   ]
  },
  {
   "cell_type": "code",
   "execution_count": 34,
   "metadata": {},
   "outputs": [
    {
     "data": {
      "text/plain": [
       "<matplotlib.figure.Figure at 0x2a779619208>"
      ]
     },
     "metadata": {},
     "output_type": "display_data"
    },
    {
     "data": {
      "image/png": "[encoded data removed]",
      "text/plain": [
       "<matplotlib.figure.Figure at 0x2a7795a5630>"
      ]
     },
     "metadata": {},
     "output_type": "display_data"
    }
   ],
   "source": [
    "fig, ax = plt.subplots(figsize = (8,8))\n",
    "ax.scatter(latitudes_df['Latitude'], latitudes_df['Humidity'])\n",
    "plt.title('City Latitude vs Humidity')\n",
    "ax.set_ylabel('Humidity (%)')\n",
    "ax.set_xlabel('City Latitude')\n",
    "plt.tight_layout()\n",
    "plt.show()\n",
    "plt.savefig('Latitude_vs_Humidity.png')"
   ]
  },
  {
   "cell_type": "markdown",
   "metadata": {},
   "source": [
    "### Latitude vs Cloudiness Plot"
   ]
  },
  {
   "cell_type": "code",
   "execution_count": 35,
   "metadata": {},
   "outputs": [
    {
     "data": {
      "text/plain": [
       "<matplotlib.figure.Figure at 0x2a778263e10>"
      ]
     },
     "metadata": {},
     "output_type": "display_data"
    },
    {
     "data": {
      "image/png": "[encoded data removed]",
      "text/plain": [
       "<matplotlib.figure.Figure at 0x2a7796215f8>"
      ]
     },
     "metadata": {},
     "output_type": "display_data"
    }
   ],
   "source": [
    "fig, ax = plt.subplots(figsize = (8,8))\n",
    "ax.scatter(latitudes_df['Latitude'], latitudes_df['Cloudiness'])\n",
    "plt.title('City Latitude vs Cloudiness')\n",
    "ax.set_ylabel('Cloudiness (%)')\n",
    "ax.set_xlabel('City Latitude')\n",
    "plt.tight_layout()\n",
    "plt.show()\n",
    "plt.savefig('Latitude_vs_Cloudiness.png')"
   ]
  },
  {
   "cell_type": "markdown",
   "metadata": {},
   "source": [
    "### Latitude vs Wind Speed Plot"
   ]
  },
  {
   "cell_type": "code",
   "execution_count": 36,
   "metadata": {},
   "outputs": [
    {
     "data": {
      "text/plain": [
       "<matplotlib.figure.Figure at 0x2a7796a84e0>"
      ]
     },
     "metadata": {},
     "output_type": "display_data"
    },
    {
     "data": {
      "image/png": "[encoded data removed]",
      "text/plain": [
       "<matplotlib.figure.Figure at 0x2a779619048>"
      ]
     },
     "metadata": {},
     "output_type": "display_data"
    }
   ],
   "source": [
    "fig, ax = plt.subplots(figsize = (8,8))\n",
    "ax.scatter(latitudes_df['Latitude'], latitudes_df['Wind Speed'])\n",
    "plt.title('City Latitude vs Wind Speed')\n",
    "ax.set_ylabel('Wind Speed (mph)')\n",
    "ax.set_xlabel('City Latitude')\n",
    "plt.tight_layout()\n",
    "plt.show()\n",
    "plt.savefig('Latitude_vs_WindSpeed.png')"
   ]
  },
  {
   "cell_type": "code",
   "execution_count": null,
   "metadata": {
    "collapsed": true
   },
   "outputs": [],
   "source": []
  }
 ],
 "metadata": {
  "kernelspec": {
   "display_name": "Python 3",
   "language": "python",
   "name": "python3"
  },
  "language_info": {
   "codemirror_mode": {
    "name": "ipython",
    "version": 3
   },
   "file_extension": ".py",
   "mimetype": "text/x-python",
   "name": "python",
   "nbconvert_exporter": "python",
   "pygments_lexer": "ipython3",
   "version": "3.6.3"
  }
 },
 "nbformat": 4,
 "nbformat_minor": 2
}
