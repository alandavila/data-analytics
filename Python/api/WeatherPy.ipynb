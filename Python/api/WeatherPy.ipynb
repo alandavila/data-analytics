{
 "cells": [
  {
   "cell_type": "markdown",
   "metadata": {},
   "source": [
    "# Analysis"
   ]
  },
  {
   "cell_type": "markdown",
   "metadata": {},
   "source": [
    "Trends Observed:\n",
    "* a\n",
    "* b\n",
    "* c"
   ]
  },
  {
   "cell_type": "markdown",
   "metadata": {},
   "source": [
    "Import dependencies"
   ]
  },
  {
   "cell_type": "code",
   "execution_count": 26,
   "metadata": {},
   "outputs": [],
   "source": [
    "from citipy import citipy\n",
    "#local config file with API key\n",
    "import config\n",
    "import matplotlib.pyplot as plt\n",
    "import pandas as pd\n",
    "import random as rnd\n",
    "import requests as req\n",
    "import seaborn as sns\n",
    "sns.set()\n",
    "rnd.seed(12456)"
   ]
  },
  {
   "cell_type": "markdown",
   "metadata": {},
   "source": [
    "### Generate Cities List\n",
    "\n",
    "Get random grid of 22*23 points in (latitude, longitude) \n",
    "\n",
    "Latitude range: -90, 90\n",
    "\n",
    "Longitude range: -180, 180"
   ]
  },
  {
   "cell_type": "code",
   "execution_count": 37,
   "metadata": {},
   "outputs": [],
   "source": [
    "cities = []\n",
    "for i in range(22):\n",
    "    for j in range(23):\n",
    "        lat = rnd.uniform(-90, 90)\n",
    "        lon = rnd.uniform(-180, 180)\n",
    "        cities.append(citipy.nearest_city(lat, lon).city_name)"
   ]
  },
  {
   "cell_type": "code",
   "execution_count": 48,
   "metadata": {},
   "outputs": [
    {
     "data": {
      "text/plain": [
       "5"
      ]
     },
     "execution_count": 48,
     "metadata": {},
     "output_type": "execute_result"
    }
   ],
   "source": [
    "#debug\n",
    "cities = cities[:5]\n",
    "len(cities)"
   ]
  },
  {
   "cell_type": "markdown",
   "metadata": {},
   "source": [
    "### Perform API Calls"
   ]
  },
  {
   "cell_type": "code",
   "execution_count": 84,
   "metadata": {},
   "outputs": [
    {
     "name": "stdout",
     "output_type": "stream",
     "text": [
      "City: illoqqortoormiut not found!\n"
     ]
    }
   ],
   "source": [
    "API_KEY = config.API_KEY\n",
    "latitudes_df = pd.DataFrame(columns=['Latitude', 'Temperature', 'Humidity', 'Cloudiness', 'Wind Speed'])\n",
    "for indx, city in enumerate(cities):\n",
    "    url = f'http://api.openweathermap.org/data/2.5/weather?q={city}&appid={API_KEY}'\n",
    "    try:\n",
    "        response = req.get(url)\n",
    "    except:\n",
    "        print(f'Query: {url} failed!')\n",
    "        continue\n",
    "    if response.status_code != 200:\n",
    "        print(f'City: {city} not found!')\n",
    "        continue\n",
    "    r_json = response.json()\n",
    "    latitude = r_json['coord']['lat']\n",
    "    temperature = r_json['main']['temp'] \n",
    "    humidity = r_json['main']['humidity']\n",
    "    cloudiness = r_json['clouds']['all']\n",
    "    wind_speed = r_json['wind']['speed']\n",
    "    latitudes_df.loc[indx, 'Latitude'] = latitude\n",
    "    latitudes_df.loc[indx, 'Temperature'] = temperature\n",
    "    latitudes_df.loc[indx, 'Humidity'] = humidity\n",
    "    latitudes_df.loc[indx, 'Cloudiness'] = cloudiness\n",
    "    latitudes_df.loc[indx, 'Wind Speed'] = wind_speed    "
   ]
  },
  {
   "cell_type": "code",
   "execution_count": 85,
   "metadata": {},
   "outputs": [
    {
     "data": {
      "text/html": [
       "<div>\n",
       "<style scoped>\n",
       "    .dataframe tbody tr th:only-of-type {\n",
       "        vertical-align: middle;\n",
       "    }\n",
       "\n",
       "    .dataframe tbody tr th {\n",
       "        vertical-align: top;\n",
       "    }\n",
       "\n",
       "    .dataframe thead th {\n",
       "        text-align: right;\n",
       "    }\n",
       "</style>\n",
       "<table border=\"1\" class=\"dataframe\">\n",
       "  <thead>\n",
       "    <tr style=\"text-align: right;\">\n",
       "      <th></th>\n",
       "      <th>Latitude</th>\n",
       "      <th>Temperature</th>\n",
       "      <th>Humidity</th>\n",
       "      <th>Cloudiness</th>\n",
       "      <th>Wind Speed</th>\n",
       "    </tr>\n",
       "  </thead>\n",
       "  <tbody>\n",
       "    <tr>\n",
       "      <th>1</th>\n",
       "      <td>54.12</td>\n",
       "      <td>246.693</td>\n",
       "      <td>45</td>\n",
       "      <td>0</td>\n",
       "      <td>2.11</td>\n",
       "    </tr>\n",
       "    <tr>\n",
       "      <th>2</th>\n",
       "      <td>21.39</td>\n",
       "      <td>299.42</td>\n",
       "      <td>65</td>\n",
       "      <td>90</td>\n",
       "      <td>5.1</td>\n",
       "    </tr>\n",
       "    <tr>\n",
       "      <th>3</th>\n",
       "      <td>68.75</td>\n",
       "      <td>251.443</td>\n",
       "      <td>76</td>\n",
       "      <td>48</td>\n",
       "      <td>1.26</td>\n",
       "    </tr>\n",
       "    <tr>\n",
       "      <th>4</th>\n",
       "      <td>39.73</td>\n",
       "      <td>260.768</td>\n",
       "      <td>48</td>\n",
       "      <td>20</td>\n",
       "      <td>0.71</td>\n",
       "    </tr>\n",
       "  </tbody>\n",
       "</table>\n",
       "</div>"
      ],
      "text/plain": [
       "  Latitude Temperature Humidity Cloudiness Wind Speed\n",
       "1    54.12     246.693       45          0       2.11\n",
       "2    21.39      299.42       65         90        5.1\n",
       "3    68.75     251.443       76         48       1.26\n",
       "4    39.73     260.768       48         20       0.71"
      ]
     },
     "execution_count": 85,
     "metadata": {},
     "output_type": "execute_result"
    }
   ],
   "source": [
    "latitudes_df.head()"
   ]
  },
  {
   "cell_type": "markdown",
   "metadata": {},
   "source": [
    "### Latitude vs Temperature Plot"
   ]
  },
  {
   "cell_type": "code",
   "execution_count": 87,
   "metadata": {},
   "outputs": [
    {
     "data": {
      "text/plain": [
       "<matplotlib.collections.PathCollection at 0x1d686390>"
      ]
     },
     "execution_count": 87,
     "metadata": {},
     "output_type": "execute_result"
    },
    {
     "data": {
      "image/png": "[encoded data removed]",
      "text/plain": [
       "<matplotlib.figure.Figure at 0x1dcb0358>"
      ]
     },
     "metadata": {},
     "output_type": "display_data"
    }
   ],
   "source": [
    "fig, ax = plt.subplots(figsize = (12,12))\n",
    "ax.scatter(latitudes_df['Latitude'], latitudes_df['Temperature'])"
   ]
  },
  {
   "cell_type": "markdown",
   "metadata": {},
   "source": [
    "### Latitude vs Humidity Plot"
   ]
  },
  {
   "cell_type": "markdown",
   "metadata": {},
   "source": [
    "### Latitude vs Cloudiness Plot"
   ]
  },
  {
   "cell_type": "markdown",
   "metadata": {},
   "source": [
    "### Latitude vs Wind Speed Plot"
   ]
  },
  {
   "cell_type": "code",
   "execution_count": null,
   "metadata": {},
   "outputs": [],
   "source": []
  }
 ],
 "metadata": {
  "kernelspec": {
   "display_name": "Python 3",
   "language": "python",
   "name": "python3"
  },
  "language_info": {
   "codemirror_mode": {
    "name": "ipython",
    "version": 3
   },
   "file_extension": ".py",
   "mimetype": "text/x-python",
   "name": "python",
   "nbconvert_exporter": "python",
   "pygments_lexer": "ipython3",
   "version": "3.6.4"
  }
 },
 "nbformat": 4,
 "nbformat_minor": 2
}
